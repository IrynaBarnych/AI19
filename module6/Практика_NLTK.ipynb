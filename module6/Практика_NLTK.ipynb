{
  "nbformat": 4,
  "nbformat_minor": 0,
  "metadata": {
    "colab": {
      "provenance": [],
      "include_colab_link": true
    },
    "kernelspec": {
      "name": "python3",
      "display_name": "Python 3"
    },
    "language_info": {
      "name": "python"
    }
  },
  "cells": [
    {
      "cell_type": "markdown",
      "metadata": {
        "id": "view-in-github",
        "colab_type": "text"
      },
      "source": [
        "<a href=\"https://colab.research.google.com/github/IrynaBarnych/AI19/blob/lab/module6/%D0%9F%D1%80%D0%B0%D0%BA%D1%82%D0%B8%D0%BA%D0%B0_NLTK.ipynb\" target=\"_parent\"><img src=\"https://colab.research.google.com/assets/colab-badge.svg\" alt=\"Open In Colab\"/></a>"
      ]
    },
    {
      "cell_type": "markdown",
      "source": [
        "# Завдання 1\n",
        "Проведіть токенизацію тексту:\n",
        " * Розділіть текст на речення\n",
        " * Кожне речення розділіть на слова. Результатом має бути `list[list]` де скажімо `data[5][10]` означає 10-те слово з 5-го речення(індексація з 0)\n",
        " * Видаліть пунктуацію та стоп-слова\n",
        " * Створіть список усіх слів з тексту 'words`"
      ],
      "metadata": {
        "id": "nKUjkCZVCs08"
      }
    },
    {
      "cell_type": "code",
      "execution_count": 2,
      "metadata": {
        "id": "uq_Bleym56q9"
      },
      "outputs": [],
      "source": [
        "text = \"\"\"Mrs Pig was very tired: 'Oh dear,' she said to her three little pigs, 'I can’t do this work anymore, I’m afraid you must leave home and make your own way in the world.' So the three little pigs set off.\n",
        "\n",
        "The first little pig met a man carrying a bundle of straw.\n",
        "\n",
        "'Excuse me,' said the first little pig politely. 'Would you please sell some of your straw so I can make a house?'\n",
        "\n",
        "The man readily agreed and the first little pig went off to find a good place to build his house.\n",
        "\n",
        "The other little pigs carried on along the road and, soon, they met a man carrying a bundle of sticks.\n",
        "\n",
        "'Excuse me,' said the little pig politely. 'Would you please sell me some sticks so I can build a house?'\n",
        "\n",
        "The man readily agreed and the little pig said goodbye to his brother.\n",
        "\n",
        "The third little pig didn’t think much of their ideas:\n",
        "\n",
        "'I’m going to build myself a much bigger, better, stronger house,' he thought, and he carried off down the road until he met a man with a cart load of bricks.\n",
        "\n",
        "'Excuse me,' said the third little pig, as politely as his mother had taught him. 'Please can you sell me some bricks so I can build a house?'\n",
        "\n",
        "'Of course,' said the man. 'Where would you like me to unload them?'\n",
        "\n",
        "The third little pig looked around and saw a nice patch of ground under a tree.\n",
        "\n",
        "'Over there,' he pointed.\n",
        "\n",
        "They all set to work and by nighttime the house of straw and the house of sticks were built but the house of bricks was only just beginning to rise above the ground. The first and second little pigs laughed, they thought their brother was really silly having to work so hard when they had finished.\"\"\""
      ]
    },
    {
      "cell_type": "code",
      "source": [
        "import nltk"
      ],
      "metadata": {
        "id": "lwkhk2GD2kBj"
      },
      "execution_count": 3,
      "outputs": []
    },
    {
      "cell_type": "code",
      "source": [
        "from nltk.tokenize import sent_tokenize, word_tokenize\n",
        "nltk.download('punkt')\n"
      ],
      "metadata": {
        "id": "5GrcOBAH2t0S",
        "outputId": "8cda7baf-15e7-41ff-c373-c57073510cd1",
        "colab": {
          "base_uri": "https://localhost:8080/"
        }
      },
      "execution_count": 4,
      "outputs": [
        {
          "output_type": "stream",
          "name": "stderr",
          "text": [
            "[nltk_data] Downloading package punkt to /root/nltk_data...\n",
            "[nltk_data]   Unzipping tokenizers/punkt.zip.\n"
          ]
        },
        {
          "output_type": "execute_result",
          "data": {
            "text/plain": [
              "True"
            ]
          },
          "metadata": {},
          "execution_count": 4
        }
      ]
    },
    {
      "cell_type": "markdown",
      "source": [
        "Розділіть текст на речення"
      ],
      "metadata": {
        "id": "-O2vSYwn3Lwi"
      }
    },
    {
      "cell_type": "code",
      "source": [
        "sentences = sent_tokenize(text)"
      ],
      "metadata": {
        "id": "kHGIN--b2yjz"
      },
      "execution_count": 5,
      "outputs": []
    },
    {
      "cell_type": "code",
      "source": [
        "type(sentences), len(sentences)"
      ],
      "metadata": {
        "id": "n3T-lAqv25fD",
        "outputId": "2086144c-92f3-4be7-a588-67fa02a7be66",
        "colab": {
          "base_uri": "https://localhost:8080/"
        }
      },
      "execution_count": 6,
      "outputs": [
        {
          "output_type": "execute_result",
          "data": {
            "text/plain": [
              "(list, 19)"
            ]
          },
          "metadata": {},
          "execution_count": 6
        }
      ]
    },
    {
      "cell_type": "code",
      "source": [
        "sentences[0]"
      ],
      "metadata": {
        "id": "fB4UYPBS271j",
        "outputId": "f4081c0a-2361-4046-b972-f14fcf632b6b",
        "colab": {
          "base_uri": "https://localhost:8080/",
          "height": 36
        }
      },
      "execution_count": 9,
      "outputs": [
        {
          "output_type": "execute_result",
          "data": {
            "text/plain": [
              "\"Mrs Pig was very tired: 'Oh dear,' she said to her three little pigs, 'I can’t do this work anymore, I’m afraid you must leave home and make your own way in the world.'\""
            ],
            "application/vnd.google.colaboratory.intrinsic+json": {
              "type": "string"
            }
          },
          "metadata": {},
          "execution_count": 9
        }
      ]
    },
    {
      "cell_type": "code",
      "source": [
        "for sentence in sentences:\n",
        "    print(sentence)"
      ],
      "metadata": {
        "id": "dFj2GEbk30PS",
        "outputId": "4d82bdd5-d3d4-409e-e7ec-524f45dd5115",
        "colab": {
          "base_uri": "https://localhost:8080/"
        }
      },
      "execution_count": 10,
      "outputs": [
        {
          "output_type": "stream",
          "name": "stdout",
          "text": [
            "Mrs Pig was very tired: 'Oh dear,' she said to her three little pigs, 'I can’t do this work anymore, I’m afraid you must leave home and make your own way in the world.'\n",
            "So the three little pigs set off.\n",
            "The first little pig met a man carrying a bundle of straw.\n",
            "'Excuse me,' said the first little pig politely.\n",
            "'Would you please sell some of your straw so I can make a house?'\n",
            "The man readily agreed and the first little pig went off to find a good place to build his house.\n",
            "The other little pigs carried on along the road and, soon, they met a man carrying a bundle of sticks.\n",
            "'Excuse me,' said the little pig politely.\n",
            "'Would you please sell me some sticks so I can build a house?'\n",
            "The man readily agreed and the little pig said goodbye to his brother.\n",
            "The third little pig didn’t think much of their ideas:\n",
            "\n",
            "'I’m going to build myself a much bigger, better, stronger house,' he thought, and he carried off down the road until he met a man with a cart load of bricks.\n",
            "'Excuse me,' said the third little pig, as politely as his mother had taught him.\n",
            "'Please can you sell me some bricks so I can build a house?'\n",
            "'Of course,' said the man.\n",
            "'Where would you like me to unload them?'\n",
            "The third little pig looked around and saw a nice patch of ground under a tree.\n",
            "'Over there,' he pointed.\n",
            "They all set to work and by nighttime the house of straw and the house of sticks were built but the house of bricks was only just beginning to rise above the ground.\n",
            "The first and second little pigs laughed, they thought their brother was really silly having to work so hard when they had finished.\n"
          ]
        }
      ]
    },
    {
      "cell_type": "markdown",
      "source": [
        "Кожне речення розділіть на слова. Результатом має бути list[list] де скажімо data[5][10] означає 10-те слово з 5-го"
      ],
      "metadata": {
        "id": "oh2sNQkP33uX"
      }
    },
    {
      "cell_type": "code",
      "source": [
        "words = word_tokenize(text)"
      ],
      "metadata": {
        "id": "91ck4MML3Y0M"
      },
      "execution_count": 42,
      "outputs": []
    },
    {
      "cell_type": "code",
      "source": [
        "len(words)"
      ],
      "metadata": {
        "id": "lX0eCwTv4ElN",
        "outputId": "d5e029db-c687-4aca-da2a-70da8b58fa6b",
        "colab": {
          "base_uri": "https://localhost:8080/"
        }
      },
      "execution_count": 13,
      "outputs": [
        {
          "output_type": "execute_result",
          "data": {
            "text/plain": [
              "365"
            ]
          },
          "metadata": {},
          "execution_count": 13
        }
      ]
    },
    {
      "cell_type": "code",
      "source": [
        "words"
      ],
      "metadata": {
        "id": "GuNufmm04Gtq"
      },
      "execution_count": null,
      "outputs": []
    },
    {
      "cell_type": "code",
      "source": [
        "word_lists = []\n",
        "for sentence in sentences:\n",
        "    words = word_tokenize(sentence)\n",
        "    word_lists.append(words)\n",
        "\n",
        "# Виведення списку списків слів\n",
        "for i, sentence_words in enumerate(word_lists):\n",
        "    print(f\"Речення {i}: {sentence_words}\")"
      ],
      "metadata": {
        "id": "nVzlwNcd4jRw",
        "outputId": "2bf2bd9f-59b5-42de-8fdd-45bec52d55a4",
        "colab": {
          "base_uri": "https://localhost:8080/"
        }
      },
      "execution_count": 21,
      "outputs": [
        {
          "output_type": "stream",
          "name": "stdout",
          "text": [
            "Речення 0: ['Mrs', 'Pig', 'was', 'very', 'tired', ':', \"'Oh\", 'dear', ',', \"'\", 'she', 'said', 'to', 'her', 'three', 'little', 'pigs', ',', \"'\", 'I', 'can', '’', 't', 'do', 'this', 'work', 'anymore', ',', 'I', '’', 'm', 'afraid', 'you', 'must', 'leave', 'home', 'and', 'make', 'your', 'own', 'way', 'in', 'the', 'world', '.', \"'\"]\n",
            "Речення 1: ['So', 'the', 'three', 'little', 'pigs', 'set', 'off', '.']\n",
            "Речення 2: ['The', 'first', 'little', 'pig', 'met', 'a', 'man', 'carrying', 'a', 'bundle', 'of', 'straw', '.']\n",
            "Речення 3: [\"'Excuse\", 'me', ',', \"'\", 'said', 'the', 'first', 'little', 'pig', 'politely', '.']\n",
            "Речення 4: [\"'Would\", 'you', 'please', 'sell', 'some', 'of', 'your', 'straw', 'so', 'I', 'can', 'make', 'a', 'house', '?', \"'\"]\n",
            "Речення 5: ['The', 'man', 'readily', 'agreed', 'and', 'the', 'first', 'little', 'pig', 'went', 'off', 'to', 'find', 'a', 'good', 'place', 'to', 'build', 'his', 'house', '.']\n",
            "Речення 6: ['The', 'other', 'little', 'pigs', 'carried', 'on', 'along', 'the', 'road', 'and', ',', 'soon', ',', 'they', 'met', 'a', 'man', 'carrying', 'a', 'bundle', 'of', 'sticks', '.']\n",
            "Речення 7: [\"'Excuse\", 'me', ',', \"'\", 'said', 'the', 'little', 'pig', 'politely', '.']\n",
            "Речення 8: [\"'Would\", 'you', 'please', 'sell', 'me', 'some', 'sticks', 'so', 'I', 'can', 'build', 'a', 'house', '?', \"'\"]\n",
            "Речення 9: ['The', 'man', 'readily', 'agreed', 'and', 'the', 'little', 'pig', 'said', 'goodbye', 'to', 'his', 'brother', '.']\n",
            "Речення 10: ['The', 'third', 'little', 'pig', 'didn', '’', 't', 'think', 'much', 'of', 'their', 'ideas', ':', \"'\", 'I', '’', 'm', 'going', 'to', 'build', 'myself', 'a', 'much', 'bigger', ',', 'better', ',', 'stronger', 'house', ',', \"'\", 'he', 'thought', ',', 'and', 'he', 'carried', 'off', 'down', 'the', 'road', 'until', 'he', 'met', 'a', 'man', 'with', 'a', 'cart', 'load', 'of', 'bricks', '.']\n",
            "Речення 11: [\"'Excuse\", 'me', ',', \"'\", 'said', 'the', 'third', 'little', 'pig', ',', 'as', 'politely', 'as', 'his', 'mother', 'had', 'taught', 'him', '.']\n",
            "Речення 12: [\"'Please\", 'can', 'you', 'sell', 'me', 'some', 'bricks', 'so', 'I', 'can', 'build', 'a', 'house', '?', \"'\"]\n",
            "Речення 13: [\"'Of\", 'course', ',', \"'\", 'said', 'the', 'man', '.']\n",
            "Речення 14: [\"'Where\", 'would', 'you', 'like', 'me', 'to', 'unload', 'them', '?', \"'\"]\n",
            "Речення 15: ['The', 'third', 'little', 'pig', 'looked', 'around', 'and', 'saw', 'a', 'nice', 'patch', 'of', 'ground', 'under', 'a', 'tree', '.']\n",
            "Речення 16: [\"'Over\", 'there', ',', \"'\", 'he', 'pointed', '.']\n",
            "Речення 17: ['They', 'all', 'set', 'to', 'work', 'and', 'by', 'nighttime', 'the', 'house', 'of', 'straw', 'and', 'the', 'house', 'of', 'sticks', 'were', 'built', 'but', 'the', 'house', 'of', 'bricks', 'was', 'only', 'just', 'beginning', 'to', 'rise', 'above', 'the', 'ground', '.']\n",
            "Речення 18: ['The', 'first', 'and', 'second', 'little', 'pigs', 'laughed', ',', 'they', 'thought', 'their', 'brother', 'was', 'really', 'silly', 'having', 'to', 'work', 'so', 'hard', 'when', 'they', 'had', 'finished', '.']\n"
          ]
        }
      ]
    },
    {
      "cell_type": "code",
      "source": [
        "data = []\n",
        "for sentence in sentences:\n",
        "    words = sentence.split()\n",
        "    data.append(words)\n",
        "\n",
        "# Виведення 10-го слова з 5-го речення\n",
        "tenth_word_of_fifth_sentence = data[4][9]  # 5-те речення (індексація з 0), 10-те слово (індексація з 0)\n",
        "\n",
        "print(\"10-те слово з 5-го речення:\", tenth_word_of_fifth_sentence)"
      ],
      "metadata": {
        "id": "3j94ARHu6qgS",
        "outputId": "20786701-0c7d-48af-cd84-0e0494ab7e2f",
        "colab": {
          "base_uri": "https://localhost:8080/"
        }
      },
      "execution_count": 25,
      "outputs": [
        {
          "output_type": "stream",
          "name": "stdout",
          "text": [
            "10-те слово з 5-го речення: I\n"
          ]
        }
      ]
    },
    {
      "cell_type": "markdown",
      "source": [
        "Видаліть пунктуацію та стоп-слова"
      ],
      "metadata": {
        "id": "v_r6GXqF65O8"
      }
    },
    {
      "cell_type": "code",
      "source": [
        "import string\n",
        "\n",
        "words = [word for word in words if word not in string.punctuation]\n",
        "words"
      ],
      "metadata": {
        "id": "7IHB1VXN66Ld",
        "outputId": "3455a071-f0ec-4b8f-ebea-fc9ceb269e6a",
        "colab": {
          "base_uri": "https://localhost:8080/"
        }
      },
      "execution_count": 27,
      "outputs": [
        {
          "output_type": "execute_result",
          "data": {
            "text/plain": [
              "['The',\n",
              " 'first',\n",
              " 'and',\n",
              " 'second',\n",
              " 'little',\n",
              " 'pigs',\n",
              " 'laughed,',\n",
              " 'they',\n",
              " 'thought',\n",
              " 'their',\n",
              " 'brother',\n",
              " 'was',\n",
              " 'really',\n",
              " 'silly',\n",
              " 'having',\n",
              " 'to',\n",
              " 'work',\n",
              " 'so',\n",
              " 'hard',\n",
              " 'when',\n",
              " 'they',\n",
              " 'had',\n",
              " 'finished.']"
            ]
          },
          "metadata": {},
          "execution_count": 27
        }
      ]
    },
    {
      "cell_type": "code",
      "source": [
        "nltk.download(\"stopwords\")\n",
        "from nltk.corpus import stopwords"
      ],
      "metadata": {
        "id": "TFH6ESfL7YKg",
        "outputId": "f0a7dd4d-3b3d-4a22-a572-88483e8346ba",
        "colab": {
          "base_uri": "https://localhost:8080/"
        }
      },
      "execution_count": 28,
      "outputs": [
        {
          "output_type": "stream",
          "name": "stderr",
          "text": [
            "[nltk_data] Downloading package stopwords to /root/nltk_data...\n",
            "[nltk_data]   Unzipping corpora/stopwords.zip.\n"
          ]
        }
      ]
    },
    {
      "cell_type": "code",
      "source": [
        "stop_words = set(stopwords.words(\"english\"))\n",
        "stop_words"
      ],
      "metadata": {
        "id": "9sK6j-ck7Z-P"
      },
      "execution_count": null,
      "outputs": []
    },
    {
      "cell_type": "code",
      "source": [
        "filtered_words = [word for word in words if word.lower() not in stop_words]\n",
        "filtered_words"
      ],
      "metadata": {
        "id": "fscgifmo7jV8",
        "outputId": "edf537dc-4db7-4fe8-cab5-f142c03406b7",
        "colab": {
          "base_uri": "https://localhost:8080/"
        }
      },
      "execution_count": 30,
      "outputs": [
        {
          "output_type": "execute_result",
          "data": {
            "text/plain": [
              "['first',\n",
              " 'second',\n",
              " 'little',\n",
              " 'pigs',\n",
              " 'laughed,',\n",
              " 'thought',\n",
              " 'brother',\n",
              " 'really',\n",
              " 'silly',\n",
              " 'work',\n",
              " 'hard',\n",
              " 'finished.']"
            ]
          },
          "metadata": {},
          "execution_count": 30
        }
      ]
    },
    {
      "cell_type": "markdown",
      "source": [
        "Створіть список усіх слів з тексту 'words`"
      ],
      "metadata": {
        "id": "Hp4Xy38j7e74"
      }
    },
    {
      "cell_type": "code",
      "source": [
        "# З'єднання всіх списків в один\n",
        "combined_list = list(filtered_words) + list(stop_words) + list(words) + list(sentence)\n",
        "\n",
        "print(\"Об'єднаний список:\")\n",
        "print(combined_list)\n"
      ],
      "metadata": {
        "id": "Z4rngKHH7eHp",
        "outputId": "208557b4-4b97-4c9a-e3e9-03ab05f3b031",
        "colab": {
          "base_uri": "https://localhost:8080/"
        }
      },
      "execution_count": 36,
      "outputs": [
        {
          "output_type": "stream",
          "name": "stdout",
          "text": [
            "Об'єднаний список:\n",
            "['first', 'second', 'little', 'pigs', 'laughed,', 'thought', 'brother', 'really', 'silly', 'work', 'hard', 'finished.', 'mrs', 'pig', 'tired', 'dear', 'said', 'three', 'little', 'pigs', 'work', 'anymore', 'afraid', 'must', 'leave', 'home', 'make', 'way', 'world', \"should've\", 'hasn', 'just', \"didn't\", 'we', 'they', 'an', 'most', 'ourselves', 'this', 'above', 'up', 'on', 'all', 'doing', 'it', 'further', 'why', 'him', 'mightn', 'below', 'to', 'you', 'as', 'ma', \"it's\", \"couldn't\", \"you'll\", 'did', 'too', 'some', \"wouldn't\", 'being', 've', 'own', 'by', 'is', 'how', 'both', \"doesn't\", 'that', 'and', 'for', 'theirs', 'off', \"weren't\", 'had', \"hasn't\", 's', 'doesn', 'its', \"needn't\", 'will', 'when', 'yours', 'any', 'our', 'the', 're', 'each', 'who', 'where', 'while', 'down', 'm', 'are', 'no', 'not', 'them', 'her', 'their', 'having', 'more', 'ours', 'over', 'haven', 'from', 'd', 'once', 'nor', 'does', 'into', 'mustn', 'in', 'but', 'herself', 'ain', 'hers', 'be', \"hadn't\", 'weren', 'won', \"won't\", 'y', 'a', 'my', \"you'd\", 'hadn', 'at', 'those', 'yourselves', 'if', \"isn't\", \"mustn't\", 'been', \"shouldn't\", 'am', 'have', 'through', 'which', 'here', 'shouldn', 'himself', 'should', 'shan', 'of', 'themselves', 'didn', \"don't\", \"aren't\", 'isn', 'or', 'same', \"mightn't\", 'needn', 'me', 'what', 'during', 'under', 'was', 'couldn', 'his', \"you're\", \"she's\", \"wasn't\", 'whom', 'than', 'between', 'such', \"shan't\", 'your', 'these', 'wasn', 'other', 'against', 'do', 'myself', 'itself', 'about', 'few', 'very', 'she', 'again', 'can', 'after', 'out', 'only', 'he', 'yourself', 'there', 'then', 'now', 'don', 'with', 'o', 'i', \"that'll\", \"you've\", \"haven't\", 'before', 'so', 'were', 'has', 't', 'because', 'wouldn', 'aren', 'until', 'll', 'Mrs', 'Pig', 'was', 'very', 'tired', ':', \"'Oh\", 'dear', ',', \"'\", 'she', 'said', 'to', 'her', 'three', 'little', 'pigs', ',', \"'\", 'I', 'can', '’', 't', 'do', 'this', 'work', 'anymore', ',', 'I', '’', 'm', 'afraid', 'you', 'must', 'leave', 'home', 'and', 'make', 'your', 'own', 'way', 'in', 'the', 'world', '.', \"'\", 'M', 'r', 's', ' ', 'P', 'i', 'g', ' ', 'w', 'a', 's', ' ', 'v', 'e', 'r', 'y', ' ', 't', 'i', 'r', 'e', 'd', ':', ' ', \"'\", 'O', 'h', ' ', 'd', 'e', 'a', 'r', ',', \"'\", ' ', 's', 'h', 'e', ' ', 's', 'a', 'i', 'd', ' ', 't', 'o', ' ', 'h', 'e', 'r', ' ', 't', 'h', 'r', 'e', 'e', ' ', 'l', 'i', 't', 't', 'l', 'e', ' ', 'p', 'i', 'g', 's', ',', ' ', \"'\", 'I', ' ', 'c', 'a', 'n', '’', 't', ' ', 'd', 'o', ' ', 't', 'h', 'i', 's', ' ', 'w', 'o', 'r', 'k', ' ', 'a', 'n', 'y', 'm', 'o', 'r', 'e', ',', ' ', 'I', '’', 'm', ' ', 'a', 'f', 'r', 'a', 'i', 'd', ' ', 'y', 'o', 'u', ' ', 'm', 'u', 's', 't', ' ', 'l', 'e', 'a', 'v', 'e', ' ', 'h', 'o', 'm', 'e', ' ', 'a', 'n', 'd', ' ', 'm', 'a', 'k', 'e', ' ', 'y', 'o', 'u', 'r', ' ', 'o', 'w', 'n', ' ', 'w', 'a', 'y', ' ', 'i', 'n', ' ', 't', 'h', 'e', ' ', 'w', 'o', 'r', 'l', 'd', '.', \"'\"]\n"
          ]
        }
      ]
    },
    {
      "cell_type": "markdown",
      "source": [
        "# Завдання 2\n",
        "\n",
        " * Зробіть стемінг слів\n",
        " * Зробіть лематизацію слів\n",
        " * Створіть `pandas.DataFrame` зі словами, що мають різний результат при стемінгу та лематизації. Має бути 3 стовпчика:\n",
        "  * оригінальне сово\n",
        "  * результат стемінгу\n",
        "  * результат лематизації\n"
      ],
      "metadata": {
        "id": "JmES6y8NDwgV"
      }
    },
    {
      "cell_type": "markdown",
      "source": [
        "Зробіть стемінг слів"
      ],
      "metadata": {
        "id": "PnQ5L7QS91kt"
      }
    },
    {
      "cell_type": "code",
      "source": [
        "from nltk.stem import PorterStemmer\n",
        "\n",
        "stemmer = PorterStemmer()\n",
        ""
      ],
      "metadata": {
        "id": "DNtDBH8lEWWl"
      },
      "execution_count": 37,
      "outputs": []
    },
    {
      "cell_type": "code",
      "source": [
        "stemmed_words = [stemmer.stem(word) for word in filtered_words]\n",
        "stemmed_words"
      ],
      "metadata": {
        "id": "rTo6TBsd94XE"
      },
      "execution_count": null,
      "outputs": []
    },
    {
      "cell_type": "code",
      "source": [
        "from nltk.stem.snowball import SnowballStemmer\n",
        "snowball_stemmer = SnowballStemmer(language='english')\n",
        "[snowball_stemmer.stem(word) for word in filtered_words]"
      ],
      "metadata": {
        "id": "4ehWIHY2974i",
        "outputId": "a2aa702d-adf0-4e48-a6eb-ad7322d70cd0",
        "colab": {
          "base_uri": "https://localhost:8080/"
        }
      },
      "execution_count": 39,
      "outputs": [
        {
          "output_type": "execute_result",
          "data": {
            "text/plain": [
              "['first',\n",
              " 'second',\n",
              " 'littl',\n",
              " 'pig',\n",
              " 'laughed,',\n",
              " 'thought',\n",
              " 'brother',\n",
              " 'realli',\n",
              " 'silli',\n",
              " 'work',\n",
              " 'hard',\n",
              " 'finished.',\n",
              " 'mrs',\n",
              " 'pig',\n",
              " 'tire',\n",
              " 'dear',\n",
              " 'said',\n",
              " 'three',\n",
              " 'littl',\n",
              " 'pig',\n",
              " 'work',\n",
              " 'anymor',\n",
              " 'afraid',\n",
              " 'must',\n",
              " 'leav',\n",
              " 'home',\n",
              " 'make',\n",
              " 'way',\n",
              " 'world']"
            ]
          },
          "metadata": {},
          "execution_count": 39
        }
      ]
    },
    {
      "cell_type": "markdown",
      "source": [
        "Зробіть лематизацію слів"
      ],
      "metadata": {
        "id": "MZyFxeve-D1b"
      }
    },
    {
      "cell_type": "code",
      "source": [
        "from nltk.stem import WordNetLemmatizer\n",
        "nltk.download('wordnet')\n",
        "\n",
        "lemmatizer = WordNetLemmatizer()"
      ],
      "metadata": {
        "id": "_hvPr_v_-ETg",
        "outputId": "6269c182-02dd-4ffb-ae36-02fff7630de6",
        "colab": {
          "base_uri": "https://localhost:8080/"
        }
      },
      "execution_count": 40,
      "outputs": [
        {
          "output_type": "stream",
          "name": "stderr",
          "text": [
            "[nltk_data] Downloading package wordnet to /root/nltk_data...\n"
          ]
        }
      ]
    },
    {
      "cell_type": "code",
      "source": [
        "[lemmatizer.lemmatize(word) for word in filtered_words]"
      ],
      "metadata": {
        "id": "prTFF7P1-JCr",
        "outputId": "2a4bb899-0cde-4607-c11d-8e08f0e735ff",
        "colab": {
          "base_uri": "https://localhost:8080/"
        }
      },
      "execution_count": 41,
      "outputs": [
        {
          "output_type": "execute_result",
          "data": {
            "text/plain": [
              "['first',\n",
              " 'second',\n",
              " 'little',\n",
              " 'pig',\n",
              " 'laughed,',\n",
              " 'thought',\n",
              " 'brother',\n",
              " 'really',\n",
              " 'silly',\n",
              " 'work',\n",
              " 'hard',\n",
              " 'finished.',\n",
              " 'mr',\n",
              " 'pig',\n",
              " 'tired',\n",
              " 'dear',\n",
              " 'said',\n",
              " 'three',\n",
              " 'little',\n",
              " 'pig',\n",
              " 'work',\n",
              " 'anymore',\n",
              " 'afraid',\n",
              " 'must',\n",
              " 'leave',\n",
              " 'home',\n",
              " 'make',\n",
              " 'way',\n",
              " 'world']"
            ]
          },
          "metadata": {},
          "execution_count": 41
        }
      ]
    },
    {
      "cell_type": "code",
      "source": [
        "stemmed_words = [stemmer.stem(word) for word in words]\n",
        "lemmatized_words = [lemmatizer.lemmatize(word) for word in words]\n",
        "\n",
        "df = pd.DataFrame({\n",
        "    'оригінальне слово': words,\n",
        "    'результат стемінгу': stemmed_words,\n",
        "    'результат лематизації': lemmatized_words\n",
        "})\n",
        "\n",
        "print(df)"
      ],
      "metadata": {
        "id": "a2iqHy83-rT7",
        "outputId": "2b28ead4-8938-48d9-f680-f7a0fa675fd0",
        "colab": {
          "base_uri": "https://localhost:8080/"
        }
      },
      "execution_count": 58,
      "outputs": [
        {
          "output_type": "stream",
          "name": "stdout",
          "text": [
            "    оригінальне слово результат стемінгу результат лематизації\n",
            "0                 Mrs                 mr                   Mrs\n",
            "1                 Pig                pig                   Pig\n",
            "2                 was                 wa                    wa\n",
            "3                very               veri                  very\n",
            "4               tired               tire                 tired\n",
            "..                ...                ...                   ...\n",
            "360              when               when                  when\n",
            "361              they               they                  they\n",
            "362               had                had                   had\n",
            "363          finished             finish              finished\n",
            "364                 .                  .                     .\n",
            "\n",
            "[365 rows x 3 columns]\n"
          ]
        }
      ]
    },
    {
      "cell_type": "markdown",
      "source": [
        "# Завдання 3\n",
        "Виділіть фрази за такими шаблонами:\n",
        "  * прикметник + іменник\n",
        "  * (хоча б 1 прикметник) + іменник\n",
        "  * (прислівник + дієслово) АБО (дієслово + прислівник)"
      ],
      "metadata": {
        "id": "D56Rwjf4EXC_"
      }
    },
    {
      "cell_type": "code",
      "source": [
        "!pip install -q svgling"
      ],
      "metadata": {
        "id": "_iN3X6_9Cm04",
        "outputId": "9d7ddfca-d995-4d75-ed48-21ea9a0cd374",
        "colab": {
          "base_uri": "https://localhost:8080/"
        }
      },
      "execution_count": 63,
      "outputs": [
        {
          "output_type": "stream",
          "name": "stdout",
          "text": [
            "\u001b[?25l     \u001b[90m━━━━━━━━━━━━━━━━━━━━━━━━━━━━━━━━━━━━━━━━\u001b[0m \u001b[32m0.0/67.1 kB\u001b[0m \u001b[31m?\u001b[0m eta \u001b[36m-:--:--\u001b[0m\r\u001b[2K     \u001b[91m━━━━━━━━━━━━━━━━━━━━━━━━━━━━━━━━━━━━\u001b[0m\u001b[91m╸\u001b[0m\u001b[90m━━━\u001b[0m \u001b[32m61.4/67.1 kB\u001b[0m \u001b[31m1.8 MB/s\u001b[0m eta \u001b[36m0:00:01\u001b[0m\r\u001b[2K     \u001b[90m━━━━━━━━━━━━━━━━━━━━━━━━━━━━━━━━━━━━━━━━\u001b[0m \u001b[32m67.1/67.1 kB\u001b[0m \u001b[31m1.4 MB/s\u001b[0m eta \u001b[36m0:00:00\u001b[0m\n",
            "\u001b[?25h"
          ]
        }
      ]
    },
    {
      "cell_type": "code",
      "source": [
        "nltk.download('tagsets')\n",
        "nltk.help.upenn_tagset()"
      ],
      "metadata": {
        "id": "G4Stff_zFQjv",
        "outputId": "257aa43e-b7f4-4dcb-f6a7-fa4bd60766ba",
        "colab": {
          "base_uri": "https://localhost:8080/"
        }
      },
      "execution_count": 59,
      "outputs": [
        {
          "output_type": "stream",
          "name": "stdout",
          "text": [
            "$: dollar\n",
            "    $ -$ --$ A$ C$ HK$ M$ NZ$ S$ U.S.$ US$\n",
            "'': closing quotation mark\n",
            "    ' ''\n",
            "(: opening parenthesis\n",
            "    ( [ {\n",
            "): closing parenthesis\n",
            "    ) ] }\n",
            ",: comma\n",
            "    ,\n",
            "--: dash\n",
            "    --\n",
            ".: sentence terminator\n",
            "    . ! ?\n",
            ":: colon or ellipsis\n",
            "    : ; ...\n",
            "CC: conjunction, coordinating\n",
            "    & 'n and both but either et for less minus neither nor or plus so\n",
            "    therefore times v. versus vs. whether yet\n",
            "CD: numeral, cardinal\n",
            "    mid-1890 nine-thirty forty-two one-tenth ten million 0.5 one forty-\n",
            "    seven 1987 twenty '79 zero two 78-degrees eighty-four IX '60s .025\n",
            "    fifteen 271,124 dozen quintillion DM2,000 ...\n",
            "DT: determiner\n",
            "    all an another any both del each either every half la many much nary\n",
            "    neither no some such that the them these this those\n",
            "EX: existential there\n",
            "    there\n",
            "FW: foreign word\n",
            "    gemeinschaft hund ich jeux habeas Haementeria Herr K'ang-si vous\n",
            "    lutihaw alai je jour objets salutaris fille quibusdam pas trop Monte\n",
            "    terram fiche oui corporis ...\n",
            "IN: preposition or conjunction, subordinating\n",
            "    astride among uppon whether out inside pro despite on by throughout\n",
            "    below within for towards near behind atop around if like until below\n",
            "    next into if beside ...\n",
            "JJ: adjective or numeral, ordinal\n",
            "    third ill-mannered pre-war regrettable oiled calamitous first separable\n",
            "    ectoplasmic battery-powered participatory fourth still-to-be-named\n",
            "    multilingual multi-disciplinary ...\n",
            "JJR: adjective, comparative\n",
            "    bleaker braver breezier briefer brighter brisker broader bumper busier\n",
            "    calmer cheaper choosier cleaner clearer closer colder commoner costlier\n",
            "    cozier creamier crunchier cuter ...\n",
            "JJS: adjective, superlative\n",
            "    calmest cheapest choicest classiest cleanest clearest closest commonest\n",
            "    corniest costliest crassest creepiest crudest cutest darkest deadliest\n",
            "    dearest deepest densest dinkiest ...\n",
            "LS: list item marker\n",
            "    A A. B B. C C. D E F First G H I J K One SP-44001 SP-44002 SP-44005\n",
            "    SP-44007 Second Third Three Two * a b c d first five four one six three\n",
            "    two\n",
            "MD: modal auxiliary\n",
            "    can cannot could couldn't dare may might must need ought shall should\n",
            "    shouldn't will would\n",
            "NN: noun, common, singular or mass\n",
            "    common-carrier cabbage knuckle-duster Casino afghan shed thermostat\n",
            "    investment slide humour falloff slick wind hyena override subhumanity\n",
            "    machinist ...\n",
            "NNP: noun, proper, singular\n",
            "    Motown Venneboerger Czestochwa Ranzer Conchita Trumplane Christos\n",
            "    Oceanside Escobar Kreisler Sawyer Cougar Yvette Ervin ODI Darryl CTCA\n",
            "    Shannon A.K.C. Meltex Liverpool ...\n",
            "NNPS: noun, proper, plural\n",
            "    Americans Americas Amharas Amityvilles Amusements Anarcho-Syndicalists\n",
            "    Andalusians Andes Andruses Angels Animals Anthony Antilles Antiques\n",
            "    Apache Apaches Apocrypha ...\n",
            "NNS: noun, common, plural\n",
            "    undergraduates scotches bric-a-brac products bodyguards facets coasts\n",
            "    divestitures storehouses designs clubs fragrances averages\n",
            "    subjectivists apprehensions muses factory-jobs ...\n",
            "PDT: pre-determiner\n",
            "    all both half many quite such sure this\n",
            "POS: genitive marker\n",
            "    ' 's\n",
            "PRP: pronoun, personal\n",
            "    hers herself him himself hisself it itself me myself one oneself ours\n",
            "    ourselves ownself self she thee theirs them themselves they thou thy us\n",
            "PRP$: pronoun, possessive\n",
            "    her his mine my our ours their thy your\n",
            "RB: adverb\n",
            "    occasionally unabatingly maddeningly adventurously professedly\n",
            "    stirringly prominently technologically magisterially predominately\n",
            "    swiftly fiscally pitilessly ...\n",
            "RBR: adverb, comparative\n",
            "    further gloomier grander graver greater grimmer harder harsher\n",
            "    healthier heavier higher however larger later leaner lengthier less-\n",
            "    perfectly lesser lonelier longer louder lower more ...\n",
            "RBS: adverb, superlative\n",
            "    best biggest bluntest earliest farthest first furthest hardest\n",
            "    heartiest highest largest least less most nearest second tightest worst\n",
            "RP: particle\n",
            "    aboard about across along apart around aside at away back before behind\n",
            "    by crop down ever fast for forth from go high i.e. in into just later\n",
            "    low more off on open out over per pie raising start teeth that through\n",
            "    under unto up up-pp upon whole with you\n",
            "SYM: symbol\n",
            "    % & ' '' ''. ) ). * + ,. < = > @ A[fj] U.S U.S.S.R * ** ***\n",
            "TO: \"to\" as preposition or infinitive marker\n",
            "    to\n",
            "UH: interjection\n",
            "    Goodbye Goody Gosh Wow Jeepers Jee-sus Hubba Hey Kee-reist Oops amen\n",
            "    huh howdy uh dammit whammo shucks heck anyways whodunnit honey golly\n",
            "    man baby diddle hush sonuvabitch ...\n",
            "VB: verb, base form\n",
            "    ask assemble assess assign assume atone attention avoid bake balkanize\n",
            "    bank begin behold believe bend benefit bevel beware bless boil bomb\n",
            "    boost brace break bring broil brush build ...\n",
            "VBD: verb, past tense\n",
            "    dipped pleaded swiped regummed soaked tidied convened halted registered\n",
            "    cushioned exacted snubbed strode aimed adopted belied figgered\n",
            "    speculated wore appreciated contemplated ...\n",
            "VBG: verb, present participle or gerund\n",
            "    telegraphing stirring focusing angering judging stalling lactating\n",
            "    hankerin' alleging veering capping approaching traveling besieging\n",
            "    encrypting interrupting erasing wincing ...\n",
            "VBN: verb, past participle\n",
            "    multihulled dilapidated aerosolized chaired languished panelized used\n",
            "    experimented flourished imitated reunifed factored condensed sheared\n",
            "    unsettled primed dubbed desired ...\n",
            "VBP: verb, present tense, not 3rd person singular\n",
            "    predominate wrap resort sue twist spill cure lengthen brush terminate\n",
            "    appear tend stray glisten obtain comprise detest tease attract\n",
            "    emphasize mold postpone sever return wag ...\n",
            "VBZ: verb, present tense, 3rd person singular\n",
            "    bases reconstructs marks mixes displeases seals carps weaves snatches\n",
            "    slumps stretches authorizes smolders pictures emerges stockpiles\n",
            "    seduces fizzes uses bolsters slaps speaks pleads ...\n",
            "WDT: WH-determiner\n",
            "    that what whatever which whichever\n",
            "WP: WH-pronoun\n",
            "    that what whatever whatsoever which who whom whosoever\n",
            "WP$: WH-pronoun, possessive\n",
            "    whose\n",
            "WRB: Wh-adverb\n",
            "    how however whence whenever where whereby whereever wherein whereof why\n",
            "``: opening quotation mark\n",
            "    ` ``\n"
          ]
        },
        {
          "output_type": "stream",
          "name": "stderr",
          "text": [
            "[nltk_data] Downloading package tagsets to /root/nltk_data...\n",
            "[nltk_data]   Unzipping help/tagsets.zip.\n"
          ]
        }
      ]
    },
    {
      "cell_type": "code",
      "source": [
        "grammar = \"NV: {}\""
      ],
      "metadata": {
        "id": "kOm4Yt4ECcBN"
      },
      "execution_count": 61,
      "outputs": []
    },
    {
      "cell_type": "code",
      "source": [
        "chunk_parser = nltk.RegexpParser(grammar)\n",
        "\n",
        "tree = chunk_parser.parse(tags)"
      ],
      "metadata": {
        "id": "TQM-kFRGCfd8",
        "outputId": "b80a97cf-ea93-4b8e-c535-a9f823e08cda",
        "colab": {
          "base_uri": "https://localhost:8080/",
          "height": 176
        }
      },
      "execution_count": 62,
      "outputs": [
        {
          "output_type": "error",
          "ename": "NameError",
          "evalue": "name 'tags' is not defined",
          "traceback": [
            "\u001b[0;31m---------------------------------------------------------------------------\u001b[0m",
            "\u001b[0;31mNameError\u001b[0m                                 Traceback (most recent call last)",
            "\u001b[0;32m<ipython-input-62-cdc4dfa6d56d>\u001b[0m in \u001b[0;36m<cell line: 3>\u001b[0;34m()\u001b[0m\n\u001b[1;32m      1\u001b[0m \u001b[0mchunk_parser\u001b[0m \u001b[0;34m=\u001b[0m \u001b[0mnltk\u001b[0m\u001b[0;34m.\u001b[0m\u001b[0mRegexpParser\u001b[0m\u001b[0;34m(\u001b[0m\u001b[0mgrammar\u001b[0m\u001b[0;34m)\u001b[0m\u001b[0;34m\u001b[0m\u001b[0;34m\u001b[0m\u001b[0m\n\u001b[1;32m      2\u001b[0m \u001b[0;34m\u001b[0m\u001b[0m\n\u001b[0;32m----> 3\u001b[0;31m \u001b[0mtree\u001b[0m \u001b[0;34m=\u001b[0m \u001b[0mchunk_parser\u001b[0m\u001b[0;34m.\u001b[0m\u001b[0mparse\u001b[0m\u001b[0;34m(\u001b[0m\u001b[0mtags\u001b[0m\u001b[0;34m)\u001b[0m\u001b[0;34m\u001b[0m\u001b[0;34m\u001b[0m\u001b[0m\n\u001b[0m",
            "\u001b[0;31mNameError\u001b[0m: name 'tags' is not defined"
          ]
        }
      ]
    }
  ]
}