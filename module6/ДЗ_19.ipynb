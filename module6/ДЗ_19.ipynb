{
  "nbformat": 4,
  "nbformat_minor": 0,
  "metadata": {
    "colab": {
      "provenance": [],
      "include_colab_link": true
    },
    "kernelspec": {
      "name": "python3",
      "display_name": "Python 3"
    },
    "language_info": {
      "name": "python"
    }
  },
  "cells": [
    {
      "cell_type": "markdown",
      "metadata": {
        "id": "view-in-github",
        "colab_type": "text"
      },
      "source": [
        "<a href=\"https://colab.research.google.com/github/IrynaBarnych/AI19/blob/hw/module6/%D0%94%D0%97_19.ipynb\" target=\"_parent\"><img src=\"https://colab.research.google.com/assets/colab-badge.svg\" alt=\"Open In Colab\"/></a>"
      ]
    },
    {
      "cell_type": "markdown",
      "source": [
        "# Завдання 1\n",
        "Напишіть функцію, яка повертає список фраз з тексту, які відповідають певному шоблону. При необхідності можете добавити власні параметри.\n",
        "\n",
        "Протестуйте функцію на якомусь тексті."
      ],
      "metadata": {
        "id": "D56Rwjf4EXC_"
      }
    },
    {
      "cell_type": "code",
      "source": [
        "def get_phrases(text, regex, tag_name):\n",
        "  \"\"\"\n",
        "  Reurn list of phrases from text that matches regex\n",
        "\n",
        "  Params:\n",
        "    text: str - original text\n",
        "    regex: str - regular expression\n",
        "    tag_name: str - tag name that is used in nltk tree\n",
        "\n",
        "  Return:\n",
        "    phrases: list[str] - list of phrases\n",
        "  \"\"\""
      ],
      "metadata": {
        "id": "G4Stff_zFQjv"
      },
      "execution_count": null,
      "outputs": []
    },
    {
      "cell_type": "code",
      "source": [
        "import nltk\n",
        "from nltk.tokenize import word_tokenize\n",
        "from nltk.chunk.regexp import RegexpParser\n",
        "nltk.download('punkt')\n",
        "nltk.download('averaged_perceptron_tagger')\n",
        "\n",
        "def get_phrases(text, regex_pattern, tag_name):\n",
        "\n",
        "\n",
        "    words = word_tokenize(text)\n",
        "    tags = nltk.pos_tag(words)\n",
        "    phrases = []\n",
        "    chunk_parser = RegexpParser(regex_pattern)\n",
        "    parsed_text = chunk_parser.parse(tags)\n",
        "\n",
        "    for tree in parsed_text:\n",
        "        if isinstance(tree, nltk.tree.Tree) and tree.label() == tag_name:\n",
        "            phrase = ' '.join(word for word, tag in tree.leaves())\n",
        "            phrases.append(phrase)\n",
        "    return phrases\n",
        "\n",
        "text = \"In many countries there are religious processions during Holy Week, \" \\\n",
        "       \"and practising Christians attend special church services. \" \\\n",
        "       \"On Palm Sunday, many churches bless palm branches and \" \\\n",
        "       \"people put them on the ground during processions to mark the day that Jesus \" \\\n",
        "       \"arrived in Jerusalem. The Last Supper on Maundy Thursday is celebrated in many \" \\\n",
        "       \"Christian traditions in the form of the Communion, when believers share bread and wine. \" \\\n",
        "       \"Good Friday is traditionally a day of fasting, reflection and sadness. \" \\\n",
        "       \"A lot of church services start at midnight the night before Easter Sunday with \" \\\n",
        "       \"the lighting of candles or, in Greece, fireworks. This represents the triumph of \" \\\n",
        "       \"light over darkness. On Easter Sunday, churches are filled with flowers \" \\\n",
        "       \"representing new life, and at home chocolate Easter eggs are given as presents\"\n",
        "\n",
        "\n",
        "phrases = get_phrases(text, regex_pattern, tag_name)\n",
        "phrases\n",
        "\n"
      ],
      "metadata": {
        "id": "xeu46YVsCSrl",
        "outputId": "b250c390-7e00-41c6-a36e-59bf51acb05a",
        "colab": {
          "base_uri": "https://localhost:8080/"
        }
      },
      "execution_count": 33,
      "outputs": [
        {
          "output_type": "stream",
          "name": "stderr",
          "text": [
            "[nltk_data] Downloading package punkt to /root/nltk_data...\n",
            "[nltk_data]   Package punkt is already up-to-date!\n",
            "[nltk_data] Downloading package averaged_perceptron_tagger to\n",
            "[nltk_data]     /root/nltk_data...\n",
            "[nltk_data]   Package averaged_perceptron_tagger is already up-to-\n",
            "[nltk_data]       date!\n"
          ]
        },
        {
          "output_type": "execute_result",
          "data": {
            "text/plain": [
              "[]"
            ]
          },
          "metadata": {},
          "execution_count": 33
        }
      ]
    }
  ]
}